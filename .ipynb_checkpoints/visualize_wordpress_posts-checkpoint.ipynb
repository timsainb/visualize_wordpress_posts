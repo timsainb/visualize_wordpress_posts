{
 "cells": [
  {
   "cell_type": "markdown",
   "metadata": {},
   "source": [
    "## Visualizing your Wordpress posts in NetworkX and D3 \n",
    "\n",
    "For the past several months I've been storing my academic notes on wordpress.com, with tags (e.g. birdsong, language acqusition, neural networks), and categories (e.g. papers, meeting-notes, tutorials). I wanted a way to visualize how these posts were connected so that I could look through my notes based on my current writing. I went through a few iterations of this and D3 is what I converged upon. I know almost nothing about javascript, so this post is essentially the joining together of three excellent tutorials:\n",
    "- http://bl.ocks.org/mbostock/4062045\n",
    "- http://www.coppelia.io/2014/07/an-a-to-z-of-extra-features-for-the-d3-force-layout/\n",
    "- https://github.com/stitchfix/d3-jupyter-tutorial\n"
   ]
  },
  {
   "cell_type": "code",
   "execution_count": 1,
   "metadata": {
    "collapsed": true
   },
   "outputs": [],
   "source": [
    "# basics\n",
    "from IPython.core.display import display, HTML\n",
    "from string import Template\n",
    "import pandas as pd\n",
    "import json, random\n",
    "import matplotlib.pyplot as plt\n",
    "%matplotlib inline\n",
    "import numpy as np"
   ]
  },
  {
   "cell_type": "code",
   "execution_count": 2,
   "metadata": {
    "collapsed": true
   },
   "outputs": [],
   "source": [
    "# Things you'll probably need to download\n",
    "import networkx as nx # for our first graph visualization\n",
    "from networkx.readwrite import json_graph\n",
    "import wxr_parser # parses the xml, download here: https://pypi.python.org/pypi/wxr-parser/0.1"
   ]
  },
  {
   "cell_type": "markdown",
   "metadata": {},
   "source": [
    "#### Parse the XML output from wordpress.\n",
    "- I grabbed example data from wordpress.org: https://codex.wordpress.org/Theme_Unit_Test.\n",
    "- Here's how to export your own wordpress xml: https://codex.wordpress.org/Tools_Export_Screen"
   ]
  },
  {
   "cell_type": "code",
   "execution_count": 3,
   "metadata": {
    "collapsed": false
   },
   "outputs": [
    {
     "ename": "AttributeError",
     "evalue": "'NoneType' object has no attribute 'text'",
     "output_type": "error",
     "traceback": [
      "\u001b[1;31m\u001b[0m",
      "\u001b[1;31mAttributeError\u001b[0mTraceback (most recent call last)",
      "\u001b[1;32m<ipython-input-3-4fa50514f8bd>\u001b[0m in \u001b[0;36m<module>\u001b[1;34m()\u001b[0m\n\u001b[0;32m      1\u001b[0m parsed_data = wxr_parser.parse(\n\u001b[1;32m----> 2\u001b[1;33m     \u001b[1;34m'http://rss.nytimes.com/services/xml/rss/nyt/HomePage.xml'\u001b[0m\u001b[1;33m\u001b[0m\u001b[0m\n\u001b[0m\u001b[0;32m      3\u001b[0m )\n",
      "\u001b[1;32m/home/AD/tsainbur/.conda/envs/tim_tf/lib/python2.7/site-packages/wxr_parser/parsers.pyc\u001b[0m in \u001b[0;36m__call__\u001b[1;34m(self, raw_data, **kwargs)\u001b[0m\n\u001b[0;32m     26\u001b[0m         \u001b[1;32mif\u001b[0m \u001b[0mkwargs\u001b[0m\u001b[1;33m.\u001b[0m\u001b[0mget\u001b[0m\u001b[1;33m(\u001b[0m\u001b[1;34m\"site\"\u001b[0m\u001b[1;33m,\u001b[0m \u001b[0mTrue\u001b[0m\u001b[1;33m)\u001b[0m\u001b[1;33m:\u001b[0m\u001b[1;33m\u001b[0m\u001b[0m\n\u001b[0;32m     27\u001b[0m             \u001b[0mparsed_data\u001b[0m \u001b[1;33m=\u001b[0m \u001b[1;33m{\u001b[0m\u001b[1;33m}\u001b[0m\u001b[1;33m\u001b[0m\u001b[0m\n\u001b[1;32m---> 28\u001b[1;33m             \u001b[0mparsed_data\u001b[0m\u001b[1;33m[\u001b[0m\u001b[1;34m'site'\u001b[0m\u001b[1;33m]\u001b[0m \u001b[1;33m=\u001b[0m \u001b[0mself\u001b[0m\u001b[1;33m.\u001b[0m\u001b[0mparse_site_data\u001b[0m\u001b[1;33m(\u001b[0m\u001b[0mself\u001b[0m\u001b[1;33m.\u001b[0m\u001b[0mtree\u001b[0m\u001b[1;33m)\u001b[0m\u001b[1;33m\u001b[0m\u001b[0m\n\u001b[0m\u001b[0;32m     29\u001b[0m \u001b[1;33m\u001b[0m\u001b[0m\n\u001b[0;32m     30\u001b[0m         \u001b[1;32mif\u001b[0m \u001b[0mkwargs\u001b[0m\u001b[1;33m.\u001b[0m\u001b[0mget\u001b[0m\u001b[1;33m(\u001b[0m\u001b[1;34m\"categories\"\u001b[0m\u001b[1;33m,\u001b[0m \u001b[0mTrue\u001b[0m\u001b[1;33m)\u001b[0m\u001b[1;33m:\u001b[0m\u001b[1;33m\u001b[0m\u001b[0m\n",
      "\u001b[1;32m/home/AD/tsainbur/.conda/envs/tim_tf/lib/python2.7/site-packages/wxr_parser/parsers.pyc\u001b[0m in \u001b[0;36mparse_site_data\u001b[1;34m(self, tree)\u001b[0m\n\u001b[0;32m     52\u001b[0m         \u001b[0msite_data\u001b[0m \u001b[1;33m=\u001b[0m \u001b[1;33m{\u001b[0m\u001b[1;33m}\u001b[0m\u001b[1;33m\u001b[0m\u001b[0m\n\u001b[0;32m     53\u001b[0m         \u001b[1;31m# get site version\u001b[0m\u001b[1;33m\u001b[0m\u001b[1;33m\u001b[0m\u001b[0m\n\u001b[1;32m---> 54\u001b[1;33m         \u001b[0msite_data\u001b[0m\u001b[1;33m[\u001b[0m\u001b[1;34m'version'\u001b[0m\u001b[1;33m]\u001b[0m \u001b[1;33m=\u001b[0m \u001b[0mtree\u001b[0m\u001b[1;33m.\u001b[0m\u001b[0mfind\u001b[0m\u001b[1;33m(\u001b[0m\u001b[1;34m'channel/generator'\u001b[0m\u001b[1;33m)\u001b[0m\u001b[1;33m.\u001b[0m\u001b[0mtext\u001b[0m\u001b[1;33m.\u001b[0m\u001b[0msplit\u001b[0m\u001b[1;33m(\u001b[0m\u001b[1;34m'v='\u001b[0m\u001b[1;33m)\u001b[0m\u001b[1;33m[\u001b[0m\u001b[1;33m-\u001b[0m\u001b[1;36m1\u001b[0m\u001b[1;33m]\u001b[0m\u001b[1;33m\u001b[0m\u001b[0m\n\u001b[0m\u001b[0;32m     55\u001b[0m         \u001b[0msite_data\u001b[0m\u001b[1;33m[\u001b[0m\u001b[1;34m'blog_url'\u001b[0m\u001b[1;33m]\u001b[0m \u001b[1;33m=\u001b[0m \u001b[0mtree\u001b[0m\u001b[1;33m.\u001b[0m\u001b[0mfind\u001b[0m\u001b[1;33m(\u001b[0m\u001b[1;34m'channel/wp:base_blog_url'\u001b[0m\u001b[1;33m,\u001b[0m \u001b[0mnamespaces\u001b[0m\u001b[1;33m=\u001b[0m\u001b[0mself\u001b[0m\u001b[1;33m.\u001b[0m\u001b[0mnsmap\u001b[0m\u001b[1;33m)\u001b[0m\u001b[1;33m.\u001b[0m\u001b[0mtext\u001b[0m\u001b[1;33m\u001b[0m\u001b[0m\n\u001b[0;32m     56\u001b[0m \u001b[1;33m\u001b[0m\u001b[0m\n",
      "\u001b[1;31mAttributeError\u001b[0m: 'NoneType' object has no attribute 'text'"
     ]
    }
   ],
   "source": [
    "parsed_data = wxr_parser.parse(\n",
    "    'data/theme-unit-test-data.xml'\n",
    ")"
   ]
  },
  {
   "cell_type": "markdown",
   "metadata": {},
   "source": [
    "### First we'll visualize the posts in NetworkX"
   ]
  },
  {
   "cell_type": "code",
   "execution_count": null,
   "metadata": {
    "collapsed": true
   },
   "outputs": [],
   "source": [
    "G=nx.Graph()\n",
    "filtered_entries = []"
   ]
  },
  {
   "cell_type": "code",
   "execution_count": null,
   "metadata": {
    "collapsed": true
   },
   "outputs": [],
   "source": [
    "for i in range(len(parsed_data['posts'])):\n",
    "    if len(parsed_data['posts'][i]['categories']) > 0:\n",
    "        if len(parsed_data['posts'][i]['tags']) > 0:\n",
    "            if parsed_data['posts'][i]['slug'] != None:\n",
    "                entry = {}\n",
    "                entry['slug'] = parsed_data['posts'][i]['slug']\n",
    "                entry['title'] = parsed_data['posts'][i]['title']\n",
    "                entry['categories'] = parsed_data['posts'][i]['categories']\n",
    "                entry['tags'] = parsed_data['posts'][i]['tags']\n",
    "                entry['link'] = parsed_data['posts'][i]['link']\n",
    "                filtered_entries.append(entry)\n",
    "                G.add_node(parsed_data['posts'][i]['slug'], type = parsed_data['posts'][i]['categories'][0])\n"
   ]
  },
  {
   "cell_type": "code",
   "execution_count": null,
   "metadata": {
    "collapsed": true
   },
   "outputs": [],
   "source": [
    "edge_weights = []\n",
    "# Adds node connections with weights based upon \n",
    "for i in range(len(filtered_entries)):\n",
    "    node_i = filtered_entries[i]['slug']\n",
    "    for j in range(i,len(filtered_entries)):\n",
    "        node_j = filtered_entries[j]['slug']\n",
    "        if node_i != node_j:\n",
    "            #if nx.has_path(G,node_i, node_j) == False:\n",
    "            weight = np.sum(\n",
    "                [tag in filtered_entries[i]['tags'] for tag in filtered_entries[j]['tags']]    \n",
    "            )\n",
    "            if weight > 0:\n",
    "                G.add_edge(node_i, node_j, weight=weight)\n",
    "                edge_weights = np.append(edge_weights,weight)\n"
   ]
  },
  {
   "cell_type": "code",
   "execution_count": null,
   "metadata": {
    "collapsed": false
   },
   "outputs": [],
   "source": [
    "fig, ax = plt.subplots(nrows=1,ncols=1, figsize=(10,10))\n",
    "nx.draw(G)"
   ]
  },
  {
   "cell_type": "markdown",
   "metadata": {},
   "source": [
    "### Now we'll create a json to put this into D3"
   ]
  },
  {
   "cell_type": "code",
   "execution_count": null,
   "metadata": {
    "collapsed": false
   },
   "outputs": [],
   "source": [
    "graph_data = { 'nodes': [], 'links': [] }"
   ]
  },
  {
   "cell_type": "code",
   "execution_count": null,
   "metadata": {
    "collapsed": true
   },
   "outputs": [],
   "source": [
    "categories = []"
   ]
  },
  {
   "cell_type": "code",
   "execution_count": null,
   "metadata": {
    "collapsed": false,
    "scrolled": false
   },
   "outputs": [],
   "source": [
    "i = 0\n",
    "for node in G.nodes():\n",
    "    cat = [a['categories'][0] for a in filtered_entries if a['slug'] == node][0]\n",
    "    if cat in categories:\n",
    "        cat_num = np.where(cat == categories)[0][0]\n",
    "    else:\n",
    "        cat_num = len(categories)\n",
    "        categories = np.append(categories,cat)\n",
    "    graph_data['nodes'].append({\n",
    "            \"name\": node,\n",
    "            \"group\": cat_num\n",
    "\n",
    "        })\n",
    "    i += 1"
   ]
  },
  {
   "cell_type": "code",
   "execution_count": null,
   "metadata": {
    "collapsed": false
   },
   "outputs": [],
   "source": [
    "j = 0\n",
    "for edge in G.edges():\n",
    "    #print edge[1]\n",
    "    source = np.where([node['name'] == edge[0] for node in graph_data['nodes']])[0][0]\n",
    "    target = np.where([node['name'] == edge[1] for node in graph_data['nodes']])[0][0]\n",
    "    graph_data['links'].append({\n",
    "        \"source\" : source,\n",
    "        \"target\" : target,\n",
    "        \"value\" : edge_weights[j]\n",
    "    })\n",
    "    j += 1"
   ]
  },
  {
   "cell_type": "code",
   "execution_count": null,
   "metadata": {
    "collapsed": false
   },
   "outputs": [],
   "source": [
    "with open('data/network.json', 'w') as fp:\n",
    "    json.dump(graph_data, fp, sort_keys=True,indent=4)"
   ]
  },
  {
   "cell_type": "markdown",
   "metadata": {},
   "source": [
    "### Now we load up our javascript libraries."
   ]
  },
  {
   "cell_type": "code",
   "execution_count": null,
   "metadata": {
    "collapsed": false
   },
   "outputs": [],
   "source": [
    "HTML('''\n",
    "<script src=\"js/d3.min.js\"></script>\n",
    "<script type='text/javascript' src=\"js/jquery-ui.min.js\"> </script>\n",
    "<script type='text/javascript' src=\"css/jquery-ui.css\"> </script>\n",
    "<script src=\"js/d3.tip.v0.6.3.js\"> </script>\n",
    "''')"
   ]
  },
  {
   "cell_type": "markdown",
   "metadata": {},
   "source": [
    "### Read our JSON back in \n",
    "Probably you can find a better way of doing this than writing a json and reading it back, but I'm lazy. "
   ]
  },
  {
   "cell_type": "code",
   "execution_count": null,
   "metadata": {
    "collapsed": false
   },
   "outputs": [],
   "source": [
    "with open('data/network.json') as data_file:    \n",
    "    data = json.load(data_file)"
   ]
  },
  {
   "cell_type": "code",
   "execution_count": null,
   "metadata": {
    "collapsed": false
   },
   "outputs": [],
   "source": [
    "# Add the JSON as HTML to this page\n",
    "HTML(''.join(['<script type=\"application/json\" id=\"mis\">',json.dumps(data),'</script>']))"
   ]
  },
  {
   "cell_type": "markdown",
   "metadata": {},
   "source": [
    "####  Style our post with CSS"
   ]
  },
  {
   "cell_type": "code",
   "execution_count": null,
   "metadata": {
    "collapsed": true
   },
   "outputs": [],
   "source": [
    "css_text = '''\n",
    ".node {\n",
    "    stroke: #fff;\n",
    "    stroke-width: 1.5px;\n",
    "}\n",
    ".link {\n",
    "    stroke: #999;\n",
    "    stroke-opacity: .6;\n",
    "}\n",
    "h3#slider {\n",
    "    color: #1ABC9C;\n",
    "    text-align:center;  \n",
    "    font-style: italic;\n",
    "    font-size: 14px;\n",
    "    font-family: \"Helvetica\";\n",
    "}\n",
    "input[type=range] {\n",
    "  width:150px;\n",
    "  display: inline;\n",
    "}\n",
    "svg {\n",
    "background: #e5e6ec\n",
    "}\n",
    ".d3-tip {\n",
    "    line-height: 1;\n",
    "    color:#000;\n",
    "    position: relative;\n",
    "    z-index:1000;\n",
    "    background-color: rgba(255, 255, 255, 0.7);\n",
    "    padding:10px;\n",
    "    border-style: solid;\n",
    "    border-width: 5px;\n",
    "    border-color: rgba(255, 255, 255, 1);\n",
    "    border-radius: 5px;\n",
    "    font-size:15px;\n",
    "}\n",
    "#neighbors {\n",
    "    color: #000;\n",
    "    width: 300px;\n",
    "    background: rgba(0,0,0,.1);\n",
    "    border: 1px solid #000;\n",
    "    margin-top: 30px;\n",
    "}\n",
    "\n",
    "#neighbors p {\n",
    "    color: #000;\n",
    "    border-top: 1px solid #000;\n",
    "    padding: 3px 10px 3px 10px;\n",
    "    margin: 0;\n",
    "    font-weight: normal\n",
    "}\n",
    "p#similar-posts {\n",
    "    font-size:14px;\n",
    "    font-weight:bold;\n",
    "    text-align:center\n",
    "}\n",
    "'''"
   ]
  },
  {
   "cell_type": "markdown",
   "metadata": {},
   "source": [
    "### Now we insert the javascript"
   ]
  },
  {
   "cell_type": "code",
   "execution_count": null,
   "metadata": {
    "collapsed": true
   },
   "outputs": [],
   "source": [
    "js_text_template = Template('''\n",
    "var width = 960,\n",
    "    height = 800;\n",
    "\n",
    "//Set up the colour scale\n",
    "var color = d3.scale.category20();\n",
    "\n",
    "//Set up the force layout\n",
    "var force = d3.layout.force()\n",
    "    .charge(-200)\n",
    "    .linkDistance(80)\n",
    "    .size([width, height]);\n",
    "\n",
    "//Append a SVG to the body of the html page. Assign this SVG as an object to svg\n",
    "var svg = d3.select(\"#$graphdiv\").append(\"svg\")\n",
    "    .attr(\"width\", width)\n",
    "    .attr(\"height\", height);\n",
    "\n",
    "//---Insert------\n",
    "//Set up tooltip\n",
    "var tip = d3.tip()\n",
    "    .attr('class', 'd3-tip')\n",
    "    .offset([-10, 0])\n",
    "    .html(function (d) {\n",
    "    return  d.name + \"</span>\";\n",
    "})\n",
    "svg.call(tip);\n",
    "//---End Insert---\n",
    "\n",
    "// Reads json file \n",
    "function readTextFile(file, callback) {\n",
    "    var rawFile = new XMLHttpRequest();\n",
    "    rawFile.overrideMimeType(\"application/json\");\n",
    "    rawFile.open(\"GET\", file, true);\n",
    "    rawFile.onreadystatechange = function() {\n",
    "        if (rawFile.readyState === 4 && rawFile.status == \"200\") {\n",
    "            callback(rawFile.responseText);\n",
    "        }\n",
    "    }\n",
    "    rawFile.send(null);\n",
    "};\n",
    "var mis = document.getElementById('mis').innerHTML;\n",
    "graph = JSON.parse(mis);\n",
    "graphRec=JSON.parse(JSON.stringify(graph)); //Add this line\n",
    "\n",
    "\n",
    "//Creates the graph data structure out of the json data\n",
    "force.nodes(graph.nodes)\n",
    "    .links(graph.links)\n",
    "    .start();\n",
    "\n",
    "//Create all the line svgs but without locations yet\n",
    "var link = svg.selectAll(\".link\")\n",
    "    .data(graph.links)\n",
    "    .enter().append(\"line\")\n",
    "    .attr(\"class\", \"link\")\n",
    "    .style(\"stroke-width\", function (d) {\n",
    "    return Math.sqrt(d.value);\n",
    "});\n",
    "\n",
    "//Do the same with the circles for the nodes - no \n",
    "var node = svg.selectAll(\".node\")\n",
    "    .data(graph.nodes)\n",
    "    .enter().append(\"circle\")\n",
    "    .attr(\"class\", \"node\")\n",
    "    .attr(\"r\", 8)\n",
    "    .style(\"fill\", function (d) {\n",
    "    return color(d.group);\n",
    "})\n",
    "    .call(force.drag) // \n",
    "    .on('click', connectedNodes) //Added code \n",
    "    .on('mouseover', tip.show) //Added\n",
    "    .on('mouseout', tip.hide); //Added\n",
    "\n",
    "\n",
    "//Now we are giving the SVGs co-ordinates - the force layout is generating the co-ordinates which this code is using to update the attributes of the SVG elements\n",
    "force.on(\"tick\", function () {\n",
    "    link.attr(\"x1\", function (d) {\n",
    "        return d.source.x;\n",
    "    })\n",
    "        .attr(\"y1\", function (d) {\n",
    "        return d.source.y;\n",
    "    })\n",
    "        .attr(\"x2\", function (d) {\n",
    "        return d.target.x;\n",
    "    })\n",
    "        .attr(\"y2\", function (d) {\n",
    "        return d.target.y;\n",
    "    });\n",
    "\n",
    "    node.attr(\"cx\", function (d) {\n",
    "        return d.x;\n",
    "    })\n",
    "        .attr(\"cy\", function (d) {\n",
    "        return d.y;\n",
    "    });\n",
    "    node.each(collide(0.5)); //Added \n",
    "});\n",
    "\n",
    "\n",
    "var optArray = [];\n",
    "for (var i = 0; i < graph.nodes.length - 1; i++) {\n",
    "    optArray.push(graph.nodes[i].name);\n",
    "}\n",
    "\n",
    "optArray = optArray.sort();\n",
    "$$(function () {\n",
    "    $$(\"#search\").autocomplete({\n",
    "        source: optArray\n",
    "    });\n",
    "});\n",
    "\n",
    "function searchNode() {\n",
    "    //find the node\n",
    "    var selectedVal = document.getElementById('search').value;\n",
    "    var node = svg.selectAll(\".node\");\n",
    "    if (selectedVal == \"none\") {\n",
    "        node.style(\"stroke\", \"white\").style(\"stroke-width\", \"5\");\n",
    "    } else {\n",
    "        var selected = node.filter(function (d, i) {\n",
    "            return d.name != selectedVal;\n",
    "        });\n",
    "        var not_selected = node.filter(function (d, i) {\n",
    "            return d.name == selectedVal;\n",
    "        });\n",
    "        not_selected.attr(\"r\", 15)\n",
    "        selected.style(\"opacity\", \"0\");\n",
    "        \n",
    "        var link = svg.selectAll(\".link\")\n",
    "        link.style(\"opacity\", \"0\");\n",
    "        d3.selectAll(\".node, .link\").transition()\n",
    "            .duration(1000)\n",
    "            .attr(\"r\", 8)\n",
    "            .style(\"opacity\", 1);\n",
    "        //not_selected.connectedNodes()\n",
    "    }\n",
    "}\n",
    "\n",
    "//---Insert-------\n",
    "\n",
    "//adjust threshold\n",
    "\n",
    "function threshold(thresh) {\n",
    "    graph.links.splice(0, graph.links.length);\n",
    "\n",
    "        for (var i = 0; i < graphRec.links.length; i++) {\n",
    "            if (graphRec.links[i].value > thresh) {graph.links.push(graphRec.links[i]);}\n",
    "        }\n",
    "    \n",
    "    linkedByIndex = {};\n",
    "    for (i = 0; i < graph.nodes.length; i++) {\n",
    "        linkedByIndex[i + \",\" + i] = 1;\n",
    "    };\n",
    "    // for each link\n",
    "    for (var i = 0; i < graphRec.links.length; i++) {\n",
    "            if (graphRec.links[i].value > thresh) {\n",
    "                //  add this link\n",
    "                linkedByIndex[graphRec.links[i].source.index + \",\" + graphRec.links[i].target.index] = 1;\n",
    "                \n",
    "            }\n",
    "        }\n",
    "        \n",
    "    restart(); \n",
    "\n",
    "}\n",
    "\n",
    "\n",
    "//Restart the visualisation after any node and link changes\n",
    "\n",
    "function restart() {\n",
    "\n",
    "    link = link.data(graph.links);\n",
    "    link.exit().remove();\n",
    "    link.enter().insert(\"line\", \".node\").attr(\"class\", \"link\");\n",
    "    node = node.data(graph.nodes);\n",
    "    node.enter().insert(\"circle\", \".cursor\").attr(\"class\", \"node\").attr(\"r\", 5).call(force.drag);\n",
    "    force.start();\n",
    "    \n",
    "\n",
    "    \n",
    "}\n",
    "//---End Insert---\n",
    "var padding = 1, // separation between circles\n",
    "    radius=8;\n",
    "function collide(alpha) {\n",
    "  var quadtree = d3.geom.quadtree(graph.nodes);\n",
    "  return function(d) {\n",
    "    var rb = 2*radius + padding,\n",
    "        nx1 = d.x - rb,\n",
    "        nx2 = d.x + rb,\n",
    "        ny1 = d.y - rb,\n",
    "        ny2 = d.y + rb;\n",
    "    quadtree.visit(function(quad, x1, y1, x2, y2) {\n",
    "      if (quad.point && (quad.point !== d)) {\n",
    "        var x = d.x - quad.point.x,\n",
    "            y = d.y - quad.point.y,\n",
    "            l = Math.sqrt(x * x + y * y);\n",
    "          if (l < rb) {\n",
    "          l = (l - rb) / l * alpha;\n",
    "          d.x -= x *= l;\n",
    "          d.y -= y *= l;\n",
    "          quad.point.x += x;\n",
    "          quad.point.y += y;\n",
    "        }\n",
    "      }\n",
    "      return x1 > nx2 || x2 < nx1 || y1 > ny2 || y2 < ny1;\n",
    "    });\n",
    "  };\n",
    "}\n",
    "\n",
    "function addp(str)\n",
    "{\n",
    "    var par = document.createElement('p');\n",
    "    par.appendChild(document.createTextNode(str));\n",
    "\n",
    "    document.getElementById('inner_neighbors').appendChild(par);\n",
    "}\n",
    "\n",
    "\n",
    "var neighbors_list = []\n",
    "//Toggle stores whether the highlighting is on\n",
    "var toggle = 0;\n",
    "//Create an array logging what is connected to what\n",
    "var linkedByIndex = {};\n",
    "for (i = 0; i < graph.nodes.length; i++) {\n",
    "    linkedByIndex[i + \",\" + i] = 1;\n",
    "};\n",
    "graph.links.forEach(function (d) {\n",
    "    linkedByIndex[d.source.index + \",\" + d.target.index] = 1;\n",
    "});\n",
    "//This function looks up whether a pair are neighbours\n",
    "function neighboring(a, b) {\n",
    "    if (a.name != b.name) {\n",
    "        if(linkedByIndex[a.index + \",\" + b.index]){\n",
    "            //document.getElementById(\"neighbors\").innerHTML += a.name\n",
    "            if (a.index != b.index){\n",
    "                if ($$.inArray(a.name, neighbors_list) == -1){\n",
    "                    neighbors_list.push(a.name)\n",
    "                }\n",
    "                if ($$.inArray(b.name, neighbors_list) == -1){\n",
    "                    neighbors_list.push(b.name)\n",
    "                }  \n",
    "            }\n",
    "    }\n",
    "    }\n",
    "    return linkedByIndex[a.index + \",\" + b.index];\n",
    "}\n",
    "\n",
    "\n",
    "function connectedNodes() {\n",
    "    if (toggle == 0) {\n",
    "        //Reduce the opacity of all but the neighbouring nodes\n",
    "        d = d3.select(this).node().__data__;\n",
    "        neighbors_list = []\n",
    "        node.style(\"opacity\", function (o) {\n",
    "            return neighboring(d, o) | neighboring(o, d) ? 1 : 0.2;\n",
    "        });\n",
    "        link.style(\"opacity\", function (o) {\n",
    "            return d.index==o.source.index | d.index==o.target.index ? 1 : 0.2;\n",
    "        });\n",
    "        //Reduce the op\n",
    "        \n",
    "        if (neighbors_list.length > 5) {\n",
    "            var short_list = neighbors_list.slice(0,4);\n",
    "        } else {\n",
    "            var short_list = neighbors_list\n",
    "        }\n",
    "        \n",
    "        short_list.forEach(addp);\n",
    "        this.setAttribute(\"r\", 12)\n",
    "        document.getElementById(\"select_title_p\").innerHTML = d.name\n",
    "        toggle = 1;\n",
    "    } else {\n",
    "        //Put them back to opacity=1\n",
    "        node.style(\"opacity\", 1);\n",
    "        link.style(\"opacity\", 1);\n",
    "        d3.selectAll(\".node\").transition()\n",
    "            .duration(200)\n",
    "            .attr(\"r\", 8)\n",
    "        document.getElementById(\"select_title_p\").innerHTML = 'Select a node'\n",
    "        document.getElementById(\"inner_neighbors\").innerHTML = ''\n",
    "        toggle = 0;\n",
    "    }\n",
    "}\n",
    "\n",
    "$$(function() {\n",
    "    $$(\"#neighbors\").draggable();\n",
    "});\n",
    "''')"
   ]
  },
  {
   "cell_type": "markdown",
   "metadata": {},
   "source": [
    "### And finally we embed all that in our HTML output."
   ]
  },
  {
   "cell_type": "code",
   "execution_count": null,
   "metadata": {
    "collapsed": false,
    "scrolled": false
   },
   "outputs": [],
   "source": [
    "html_template = Template('''\n",
    "<style> $css_text </style>\n",
    "<div class=\"ui-widget\" style=\"float:left;padding:10px\">\n",
    "   <input id=\"search\">\n",
    "    <button type=\"button\" onclick=\"searchNode()\">Search</button>\n",
    "</div>\n",
    "<div style=\"float:right;padding:10px\">\n",
    "<form>\n",
    "    <h3 id=\"slider\"> Link threshold 0 <input type=\"range\" id=\"thersholdSlider\" name=\"points\" value = 0 min=\"0\" max=\"10\" onchange=\"var linkedByIndex = threshold(this.value)\"> 10 </h3>\n",
    "</form>\n",
    "</div>\n",
    "<div style=\"position: relative; width: 0; height: 0;float:right;margin-top: 50px;    margin-right: 50px;\">\n",
    "<div id=\"neighbors\">\n",
    "<div id=\"select_title\"><p id=\"select_title_p\" style=\"font-weight: bold;\">Select a node</p></div>\n",
    "<div id=\"inner_neighbors\"></div>\n",
    "</div>\n",
    "</div>\n",
    "<div id=\"graph-div\"></div>\n",
    "\n",
    "<script> $js_text </script>\n",
    "''')\n",
    "js_text = js_text_template.substitute({'graphdiv': 'graph-div'})\n",
    "HTML(html_template.substitute({'css_text': css_text, 'js_text': js_text}))"
   ]
  },
  {
   "cell_type": "markdown",
   "metadata": {},
   "source": [
    "### TODO:\n",
    "There are still a number of improvements that need to be made:\n",
    "- Linking to posts\n",
    "- Displaying more info about the post on selection, hover\n",
    "- Displaying 'most similar posts' rather than just choosing the first 5 connections"
   ]
  },
  {
   "cell_type": "code",
   "execution_count": null,
   "metadata": {
    "collapsed": false
   },
   "outputs": [],
   "source": [
    "# this is just a little hack to convert this as html for the github.io page\n",
    "!jupyter nbconvert --to html visualize_wordpress_posts.ipynb\n",
    "!mv visualize_wordpress_posts.html index.html"
   ]
  }
 ],
 "metadata": {
  "kernelspec": {
   "display_name": "Python 2",
   "language": "python",
   "name": "python2"
  },
  "language_info": {
   "codemirror_mode": {
    "name": "ipython",
    "version": 2
   },
   "file_extension": ".py",
   "mimetype": "text/x-python",
   "name": "python",
   "nbconvert_exporter": "python",
   "pygments_lexer": "ipython2",
   "version": "2.7.11"
  }
 },
 "nbformat": 4,
 "nbformat_minor": 0
}
